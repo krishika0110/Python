{
  "nbformat": 4,
  "nbformat_minor": 0,
  "metadata": {
    "colab": {
      "provenance": []
    },
    "kernelspec": {
      "name": "python3",
      "display_name": "Python 3"
    },
    "language_info": {
      "name": "python"
    }
  },
  "cells": [
    {
      "cell_type": "code",
      "execution_count": null,
      "metadata": {
        "id": "Na1zPX9nzKK3"
      },
      "outputs": [],
      "source": []
    },
    {
      "cell_type": "markdown",
      "source": [
        "# Python\n"
      ],
      "metadata": {
        "id": "3mIuHVmn0A52"
      }
    },
    {
      "cell_type": "code",
      "source": [
        "#1. What is Python, and why is it popular?\n",
        "   #- Python is an interpreted language used by vast people in the industry.\n",
        "   #It is popular due to its vast collection of libraries and user-friendly\n",
        "   #language and easy syntax.\n",
        "\n",
        "#2. What is an interpreter in Python?\n",
        "   #- Interpreter in python analyzes, reads and executes the code line by line.\n",
        "\n",
        "#3. What are pre-defined keywords in Python?\n",
        "   #- Pre-defined keywords are reserved words in the python that have special\n",
        "   #  meaning.\n",
        "\n",
        "#4. Can keywords be used as variable names?\n",
        "   #- Keywords cannot be used as variable names as they are reserved for special\n",
        "   #  purposes.\n",
        "\n",
        "#5. What is mutability in Python?\n",
        "   #- Mutability in python means we can change(add,update or remove) the state,\n",
        "   #  value of a variable.\n",
        "\n",
        "#6. Why are lists mutable, but tuples are immutable?\n",
        "   #- Lists include operation for adding, removing or updating the value whereas\n",
        "   #  in tuples we cannot change or mutate the value once created.\n",
        "\n",
        "#7. What is the difference between “==” and “is” operators in Python?\n",
        "   #- \"==\" is used to compare the value of two objects or variables.\n",
        "   #  \"is\" is used to know whether the two objects refer to the same object in\n",
        "   #   memory.\n",
        "\n",
        "#8. What are logical operators in Python?\n",
        "   #- Logical operators are and, or, not which return Boolean type value and\n",
        "   #  are used in conditional statements.\n",
        "\n",
        "#9. What is type casting in Python?\n",
        "   #- Type casting refers to converting one data type to another.\n",
        "\n",
        "#10.  What is the difference between implicit and explicit type casting?\n",
        "   #- Implicit type casting refers to the conversion done by compiler itself\n",
        "   #  whereas explicit type casting refers to the conversion done manually by\n",
        "   #  using some specific functions like converting one data type to another.\n",
        "\n",
        "#11. What is the purpose of conditional statements in Python?\n",
        "   #- Conditional statements executes the code on the basis of the given\n",
        "   #  situation returns True or False.\n",
        "\n",
        "#12. How does the elif statement work?\n",
        "   #- It allows for the execution of multiple codes in sequential manner and\n",
        "   #  followed by else if necessary.\n",
        "\n",
        "#13. What is the difference between for and while loops?\n",
        "   #- For loop is used when you know fixed number of iterations to provide\n",
        "   #  concise code whereas while loop is used for a loop of codes.\n",
        "\n",
        "#14. Describe a scenario where a while loop is more suitable than a for loop.\n",
        "   #- We can use while loop while playing a sport where we have to achieve a\n",
        "   #  certain score and it will run continuously until the team reaches the\n",
        "   #  dedicated score.\n",
        "\n",
        "\n",
        "\n",
        "\n",
        "\n",
        "\n"
      ],
      "metadata": {
        "id": "UuI3QCiU0Emi"
      },
      "execution_count": 5,
      "outputs": []
    },
    {
      "cell_type": "markdown",
      "source": [
        "#Practical questions"
      ],
      "metadata": {
        "id": "AMgS3REO1lPd"
      }
    },
    {
      "cell_type": "code",
      "source": [
        "#1. Write a Python program to print \"Hello, World!\"\n",
        "print(\"Hello world!\")"
      ],
      "metadata": {
        "colab": {
          "base_uri": "https://localhost:8080/"
        },
        "id": "uwT-DX2SBAJz",
        "outputId": "faba5e10-eaeb-4a2b-8632-19b8e7cfef84"
      },
      "execution_count": 8,
      "outputs": [
        {
          "output_type": "stream",
          "name": "stdout",
          "text": [
            "Hello world!\n"
          ]
        }
      ]
    },
    {
      "cell_type": "code",
      "source": [
        "#2. Write a Python program that displays your name and age.\n",
        "name = \"krishika\"\n",
        "age =  \"21\"\n",
        "print(name,age)"
      ],
      "metadata": {
        "colab": {
          "base_uri": "https://localhost:8080/"
        },
        "id": "JodTvsiMBeyD",
        "outputId": "8bbe1d2b-5b48-4123-a637-35e78d92cbf7"
      },
      "execution_count": 11,
      "outputs": [
        {
          "output_type": "stream",
          "name": "stdout",
          "text": [
            "krishika 21\n"
          ]
        }
      ]
    },
    {
      "cell_type": "code",
      "source": [
        "#3. Write code to print all the pre-defined keywords in Python using the keyword library.\n",
        "import keyword\n",
        "all_keywords = keyword.kwlist\n",
        "print(\"Predefined Python Keywords:\")\n",
        "for kw in all_keywords:\n",
        " print(kw)\n",
        "\n"
      ],
      "metadata": {
        "colab": {
          "base_uri": "https://localhost:8080/"
        },
        "id": "8BbzZplkB4a5",
        "outputId": "497a00b9-3c65-4582-bb0e-d5995d15a043"
      },
      "execution_count": 18,
      "outputs": [
        {
          "output_type": "stream",
          "name": "stdout",
          "text": [
            "Predefined Python Keywords:\n",
            "False\n",
            "None\n",
            "True\n",
            "and\n",
            "as\n",
            "assert\n",
            "async\n",
            "await\n",
            "break\n",
            "class\n",
            "continue\n",
            "def\n",
            "del\n",
            "elif\n",
            "else\n",
            "except\n",
            "finally\n",
            "for\n",
            "from\n",
            "global\n",
            "if\n",
            "import\n",
            "in\n",
            "is\n",
            "lambda\n",
            "nonlocal\n",
            "not\n",
            "or\n",
            "pass\n",
            "raise\n",
            "return\n",
            "try\n",
            "while\n",
            "with\n",
            "yield\n"
          ]
        }
      ]
    },
    {
      "cell_type": "code",
      "source": [
        "#4. Write a program that checks if a given word is a Python keyword.\n",
        "import keyword\n",
        "def is_python_keyword(word):\n",
        "  if keyword.iskeyword(word):\n",
        "    return f\"'{word}' is a Python keyword.\"\n",
        "  else:\n",
        "      return f\"'{word}' is not a Python keyword.\""
      ],
      "metadata": {
        "id": "q_zD3GZSCk-k"
      },
      "execution_count": 24,
      "outputs": []
    },
    {
      "cell_type": "code",
      "source": [
        "#5.  Create a list and tuple in Python, and demonstrate how attempting to change an element works differently for each.\n",
        "my_list = [10,20,30,40,50]\n",
        "print( f\" original list:{my_list}\")\n"
      ],
      "metadata": {
        "colab": {
          "base_uri": "https://localhost:8080/"
        },
        "id": "h6f-lJUlElDv",
        "outputId": "d5baadf6-e69a-4512-fbe7-b44e51cfee73"
      },
      "execution_count": 33,
      "outputs": [
        {
          "output_type": "stream",
          "name": "stdout",
          "text": [
            " original list:[10, 20, 30, 40, 50]\n"
          ]
        }
      ]
    },
    {
      "cell_type": "code",
      "source": [
        "my_list[0] = 100\n",
        "print( f\"modified list{my_list}\")"
      ],
      "metadata": {
        "colab": {
          "base_uri": "https://localhost:8080/"
        },
        "id": "IzcwszNiFtOv",
        "outputId": "8f612496-30dc-4a46-c250-d034e87b8131"
      },
      "execution_count": 35,
      "outputs": [
        {
          "output_type": "stream",
          "name": "stdout",
          "text": [
            "modified list[100, 20, 30, 40, 50]\n"
          ]
        }
      ]
    },
    {
      "cell_type": "code",
      "source": [
        "my_tuple = (\"10,20,30,40,50\")\n",
        "print( f\" original list:{my_list}\")\n"
      ],
      "metadata": {
        "colab": {
          "base_uri": "https://localhost:8080/"
        },
        "id": "Uho57H-qF0k0",
        "outputId": "e6edc06a-0d4c-4975-fd2f-22292367991c"
      },
      "execution_count": 36,
      "outputs": [
        {
          "output_type": "stream",
          "name": "stdout",
          "text": [
            " original list:[100, 20, 30, 40, 50]\n"
          ]
        }
      ]
    },
    {
      "cell_type": "code",
      "source": [
        "my_tuple[4] = 600"
      ],
      "metadata": {
        "colab": {
          "base_uri": "https://localhost:8080/",
          "height": 145
        },
        "id": "mp3UUiKUG8xY",
        "outputId": "b7eb5e45-80c5-402b-e2e4-5bea194784e8"
      },
      "execution_count": 137,
      "outputs": [
        {
          "output_type": "error",
          "ename": "TypeError",
          "evalue": "'tuple' object does not support item assignment",
          "traceback": [
            "\u001b[0;31m---------------------------------------------------------------------------\u001b[0m",
            "\u001b[0;31mTypeError\u001b[0m                                 Traceback (most recent call last)",
            "\u001b[0;32m/tmp/ipython-input-1906109551.py\u001b[0m in \u001b[0;36m<cell line: 0>\u001b[0;34m()\u001b[0m\n\u001b[0;32m----> 1\u001b[0;31m \u001b[0mmy_tuple\u001b[0m\u001b[0;34m[\u001b[0m\u001b[0;36m4\u001b[0m\u001b[0;34m]\u001b[0m \u001b[0;34m=\u001b[0m \u001b[0;36m600\u001b[0m\u001b[0;34m\u001b[0m\u001b[0;34m\u001b[0m\u001b[0m\n\u001b[0m",
            "\u001b[0;31mTypeError\u001b[0m: 'tuple' object does not support item assignment"
          ]
        }
      ]
    },
    {
      "cell_type": "code",
      "source": [
        "#6. Write a function to demonstrate the behavior of mutable and immutable arguments.\n",
        "\n",
        "my_string = \"hello\"\n",
        "print(f\"Outside function - Original string: {my_string}\")\n",
        "def attempt_modify_string(data_string):\n",
        "    print(f\"Inside function (string) - Initial string: {data_string}\")\n",
        "    data_string += \" world\" # Creates a new string, does not modify the original\n",
        "    print(f\"Inside function (string) - New string created: {data_string}\")\n",
        "\n",
        "attempt_modify_string(my_string)\n",
        "print(f\"Outside function - String after function call: {my_string}\")"
      ],
      "metadata": {
        "colab": {
          "base_uri": "https://localhost:8080/"
        },
        "id": "my8uXKX6HB8o",
        "outputId": "8527cbe0-c7f6-44b0-acdb-bc01853d23b8"
      },
      "execution_count": 46,
      "outputs": [
        {
          "output_type": "stream",
          "name": "stdout",
          "text": [
            "Outside function - Original string: hello\n",
            "Inside function (string) - Initial string: hello\n",
            "Inside function (string) - New string created: hello world\n",
            "Outside function - String after function call: hello\n"
          ]
        }
      ]
    },
    {
      "cell_type": "code",
      "source": [
        "#7. Write a program that performs basic arithmetic operations on two user-input numbers.\n",
        "num1 = float(input(\"Enter the first number:\"))\n",
        "num2 = float(input(\"Enter the second number:\"))\n",
        "sum_result = num1 + num2\n",
        "print(f\"Addition: {num1 + num2} = {sum_result}\")"
      ],
      "metadata": {
        "colab": {
          "base_uri": "https://localhost:8080/"
        },
        "id": "OZEKz8QqINTd",
        "outputId": "c95af953-87ae-465b-83cb-5f4f4baac681"
      },
      "execution_count": 54,
      "outputs": [
        {
          "output_type": "stream",
          "name": "stdout",
          "text": [
            "Enter the first number:3256\n",
            "Enter the second number:8456\n",
            "Addition: 11712.0 = 11712.0\n"
          ]
        }
      ]
    },
    {
      "cell_type": "code",
      "source": [
        "#8. Write a program to demonstrate the use of logical operators.\n",
        "age = 18\n",
        "can_vote = True\n",
        "if age >= 18 and can_vote:\n",
        "  print(\"Condition age >=18 and can_vote\")\n",
        "  print(\"Result: You are eligible to vote\")\n",
        "else:\n",
        "    print(\"Condition <= 18 and can_vote\")\n",
        "    print(\"Result: You are not eligible to vote\")"
      ],
      "metadata": {
        "colab": {
          "base_uri": "https://localhost:8080/"
        },
        "id": "-xorzRixItum",
        "outputId": "ae2c749a-0cf6-42e1-819e-c3ef5912b3ad"
      },
      "execution_count": 56,
      "outputs": [
        {
          "output_type": "stream",
          "name": "stdout",
          "text": [
            "Condition age >=18 and can_vote\n",
            "Result: You are eligible to vote\n"
          ]
        }
      ]
    },
    {
      "cell_type": "code",
      "source": [
        "#9. Write a Python program to convert user input from string to integer, float, and boolean types.\n",
        "user_input = (\"Enter a number:\")\n",
        "print((type(user_input)))"
      ],
      "metadata": {
        "colab": {
          "base_uri": "https://localhost:8080/"
        },
        "id": "12pkIPyFRmp-",
        "outputId": "6e1c2ece-7988-4218-93b0-53d9dbb33b67"
      },
      "execution_count": 74,
      "outputs": [
        {
          "output_type": "stream",
          "name": "stdout",
          "text": [
            "<class 'str'>\n"
          ]
        }
      ]
    },
    {
      "cell_type": "code",
      "source": [
        "#10.  Write code to demonstrate type casting with list elements.\n",
        "my_list = [1,2.5, True, \"September\", \"Tea\", 7363,736.53]\n",
        "print(f\"Original list:{my_list}\")\n"
      ],
      "metadata": {
        "colab": {
          "base_uri": "https://localhost:8080/"
        },
        "id": "SMujIxoqT6nF",
        "outputId": "e93d1d62-cb00-4b5d-c01f-c14ff212ac3b"
      },
      "execution_count": 85,
      "outputs": [
        {
          "output_type": "stream",
          "name": "stdout",
          "text": [
            "Original list:[1, 2.5, True, 'September', 'Tea', 7363, 736.53]\n"
          ]
        }
      ]
    },
    {
      "cell_type": "code",
      "source": [
        "my_list[5] = \"Hello\"\n",
        "my_list"
      ],
      "metadata": {
        "colab": {
          "base_uri": "https://localhost:8080/"
        },
        "id": "wr2daEICVNyg",
        "outputId": "786b1370-fbc9-4c60-f31f-55d642f0796a"
      },
      "execution_count": 86,
      "outputs": [
        {
          "output_type": "execute_result",
          "data": {
            "text/plain": [
              "[1, 2.5, True, 'September', 'Tea', 'Hello', 736.53]"
            ]
          },
          "metadata": {},
          "execution_count": 86
        }
      ]
    },
    {
      "cell_type": "code",
      "source": [
        "#11.  Write a program that checks if a number is positive, negative, or zero.\n",
        "user_input = (\"Enter a number:\")\n",
        "def check_number(number):\n",
        "  if number > 0:\n",
        "    return (\"Positive\")\n",
        "  elif number < 0:\n",
        "      return (\"Negative\")\n",
        "  else:\n",
        "        return (\"Zero\")"
      ],
      "metadata": {
        "id": "lj_svRrfVyKF"
      },
      "execution_count": 101,
      "outputs": []
    },
    {
      "cell_type": "code",
      "source": [
        "#12. Write a for loop to print numbers from 1 to 10.\n",
        "for i in range(1,11):\n",
        "  print(i)"
      ],
      "metadata": {
        "colab": {
          "base_uri": "https://localhost:8080/"
        },
        "id": "ZBjTGCyVWVrC",
        "outputId": "db5f75b8-285b-450e-b4ed-dc5a3365312c"
      },
      "execution_count": 102,
      "outputs": [
        {
          "output_type": "stream",
          "name": "stdout",
          "text": [
            "1\n",
            "2\n",
            "3\n",
            "4\n",
            "5\n",
            "6\n",
            "7\n",
            "8\n",
            "9\n",
            "10\n"
          ]
        }
      ]
    },
    {
      "cell_type": "code",
      "source": [
        "#13. Write a Python program to find the sum of all even numbers between 1 and 50.\n",
        "even_sum = 0\n",
        "for i in range(1,51):\n",
        " if i % 2 == 0:\n",
        "  even_sum += i\n",
        "  print(even_sum)"
      ],
      "metadata": {
        "colab": {
          "base_uri": "https://localhost:8080/"
        },
        "id": "i5Gflj4uXYRl",
        "outputId": "473e0501-1af8-48d1-cedc-20011840d0a6"
      },
      "execution_count": 110,
      "outputs": [
        {
          "output_type": "stream",
          "name": "stdout",
          "text": [
            "2\n",
            "6\n",
            "12\n",
            "20\n",
            "30\n",
            "42\n",
            "56\n",
            "72\n",
            "90\n",
            "110\n",
            "132\n",
            "156\n",
            "182\n",
            "210\n",
            "240\n",
            "272\n",
            "306\n",
            "342\n",
            "380\n",
            "420\n",
            "462\n",
            "506\n",
            "552\n",
            "600\n",
            "650\n"
          ]
        }
      ]
    },
    {
      "cell_type": "code",
      "source": [
        "#14. Write a program to reverse a string using a while loop\n",
        "def reverse_string_while_loop(input_string):\n",
        "  reversed_string = \"\"\n",
        "  index = len(input_string) - 1  # Start from the last character\n",
        "\n",
        "  while index >= 0:\n",
        "        reversed_string += input_string[index]\n",
        "        index -= 1  # Move to the previous character\n",
        "  return reversed_string"
      ],
      "metadata": {
        "id": "5cWs6ekIX0Um"
      },
      "execution_count": 142,
      "outputs": []
    },
    {
      "cell_type": "code",
      "source": [
        "#15.  Write a Python program to calculate the factorial of a number provided by the user using a while loop.\n",
        "def factorial_while_loop(n):\n",
        "  if n < 0:\n",
        "    return(\"Fcatorial is not defined\")\n",
        "  elif n == 0:\n",
        "      return(\"Factorial defined\")\n",
        "  else:\n",
        "      factorial = 1\n",
        "      i = 1\n",
        "      while i <= n:\n",
        "        facorial *= i\n",
        "        i=+ 1\n",
        "        return factorial\n"
      ],
      "metadata": {
        "id": "Jc7SxxEvZKEQ"
      },
      "execution_count": 122,
      "outputs": []
    },
    {
      "cell_type": "code",
      "source": [],
      "metadata": {
        "id": "QjhTGxYUawkw"
      },
      "execution_count": null,
      "outputs": []
    }
  ]
}